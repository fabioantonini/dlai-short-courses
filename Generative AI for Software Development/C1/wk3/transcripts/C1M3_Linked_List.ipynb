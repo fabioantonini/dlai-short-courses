{
 "cells": [
  {
   "cell_type": "markdown",
   "metadata": {},
   "source": [
    "# Ungraded Lab - Building a Doubly Linked List Class with an LLM\n",
    "\n",
    "Welcome to the first ungraded lab of this course! In this lab you'll be working alongside an LLM to update a Linked List class to make it doubly linked. This is a good opportunity to practice your LLM prompting skills and prepare yourself for the programming assignment at the end of this course.\n",
    "\n",
    "# Outline\n",
    "- [ 1 - Introduction](#1)\n",
    "  - [ 1.1 Importing necessary libraries](#1.1)\n",
    "- [ 2 - The `Node` and `LinkedList` Classes to Update](#2)\n",
    "- [ 3 - Test Your Classes](#3)\n",
    "- [ 4 - Go Further with Your LLM Prompting Skills](#4)"
   ]
  },
  {
   "cell_type": "markdown",
   "metadata": {},
   "source": [
    "<a name=\"1\"></a>\n",
    "## 1 - Introduction\n",
    "\n",
    "**Your Task:** Below you'll find the `Node` and `LinkedList` class you saw in the lectures. Your job is to work alongside an LLM to update this class to be a doubly linked list, meaning each node has connections to both its previous and next node. Once you've done that, work with the LLM to further refine the class to account for other concerns common in software engineering like security concerns or scalability. \n",
    "\n",
    "**LLM Access:** You can access OpenAI's GPT-3.5 model [here](https://www.coursera.org/learn/introduction-to-generative-ai-for-software-development/ungradedLab/Vuqvf/gpt-3-5-environment), but feel free to use the LLM you want!\n",
    "\n",
    "**Practice Prompting:** Focus on trying out the prompting skills covered in the lectures:\n",
    "\n",
    "* **Be Specific:** In your prompts provide detail about what you're trying to accomplish and the context in which you're working. For example, it'd be totally appropriate to provide the LLM the class as it's already written and describe the new functionality you're trying to add.\n",
    "* **Provide Feedback:** Iteratively prompt the LLM and provide feedback on the output you receive to get closer to your expected results. In this case, you could try the code you develop alongside the LLM and report back on bugs, unexpected behavior, or stylistic decisions you want improved.\n",
    "* **Assign a Role:** Assign a role to tailor the output you receive from the LLM. At first you might just want to assign the role of \"an experienced Python developer\" but later on try out more specific or expert roles to focus on areas like security or scalability. \n",
    "\n",
    "**Testing Your Class:** At the bottom of this notebook you'll find different test cases that will help determine if your class works as expected. This lab is ungraded, however, so you don't need to pass all the test cases to move on. Focus instead on exploring what coding alongside an LLM is like, trying the prompting skills, and building your own intuitive sense of how LLMs will best fit into your software development workflow."
   ]
  },
  {
   "cell_type": "markdown",
   "metadata": {},
   "source": [
    "<a name=\"1.1\"></a>\n",
    "### 1.1 Importing necessary libraries"
   ]
  },
  {
   "cell_type": "code",
   "execution_count": 1,
   "metadata": {},
   "outputs": [],
   "source": [
    "import threading # Used to make the class thread-safe"
   ]
  },
  {
   "cell_type": "markdown",
   "metadata": {},
   "source": [
    "<a name=\"2\"></a>\n",
    "## 2 - The `Node` and `LinkedList` Classes to Update\n",
    "Below are the classes you saw in the lectures and that you will be editing. Recall that a linked list is made up of individual nodes that have connections between one another. This class initially is a singly linked list, meaning each node only knows the location of the node that comes after it in the linked list. In a doubly linked list the nodes also know the location of the node that comes before it. \n",
    "\n",
    "**Update both these classes to make the linked list doubly-linked.**"
   ]
  },
  {
   "cell_type": "code",
   "execution_count": 2,
   "metadata": {},
   "outputs": [],
   "source": [
    "class Node:\n",
    "\n",
    "    # Initially each node knows the location of the next\n",
    "    # node in the linked list\n",
    "    def __init__(self, data):\n",
    "        self.data = data\n",
    "        self.next = None\n",
    "\n",
    "class LinkedList:\n",
    "    def __init__(self, max_size=None):\n",
    "        self.head = None\n",
    "        self.size = 0\n",
    "        self.max_size = max_size  \n",
    "        # This class is designed to be thread safe, using locks.\n",
    "        # If you're unfamiliar with multi-threading concepts\n",
    "        # consider asking your LLM for guidance\n",
    "        self.lock = threading.Lock()\n",
    "\n",
    "    def append(self, data):\n",
    "        # Validate input data\n",
    "        if len(data) > 1000:  \n",
    "            raise ValueError(\"Data size exceeds maximum limit\")\n",
    "        with self.lock:           \n",
    "            if self.max_size is not None and self.size >= self.max_size:\n",
    "                raise ValueError(\"Linked list is full\")\n",
    "            new_node = Node(data)\n",
    "            if self.head is None:\n",
    "                self.head = new_node\n",
    "            else:\n",
    "                last = self.head\n",
    "                while last.next:\n",
    "                    last = last.next\n",
    "                last.next = new_node\n",
    "            self.size += 1\n",
    "\n",
    "    def print_list(self):\n",
    "        current = self.head\n",
    "        while current:\n",
    "            print(current.data, end=\" \")\n",
    "            current = current.next\n",
    "\n",
    "    def print_list_reverse(self):\n",
    "        # Print the list from last element to first\n",
    "        # This method is much easier to implement once\n",
    "        # you have a doubly linked list\n",
    "        print(\"print_list_reverse not yet implemented\")\n"
   ]
  },
  {
   "cell_type": "markdown",
   "metadata": {},
   "source": [
    "## Linked-list revisited to accept strings, integers, floats as input data"
   ]
  },
  {
   "cell_type": "code",
   "execution_count": 7,
   "metadata": {},
   "outputs": [
    {
     "name": "stdout",
     "output_type": "stream",
     "text": [
      "1 2.0 three \n",
      "three 2.0 1 \n"
     ]
    }
   ],
   "source": [
    "import threading\n",
    "\n",
    "class Node:\n",
    "    def __init__(self, data):\n",
    "        self.data = data\n",
    "        self.next = None\n",
    "\n",
    "class LinkedList:\n",
    "    def __init__(self, max_size: int = None):\n",
    "        self.head = None\n",
    "        self.size = 0\n",
    "        self.max_size = max_size\n",
    "        self.lock = threading.Lock()\n",
    "\n",
    "    def append(self, data):\n",
    "        # Validate input data\n",
    "        if isinstance(data, (str, list, tuple, dict)) and len(data) > 1000:\n",
    "            raise ValueError(\"Data size exceeds maximum limit\")\n",
    "        with self.lock:\n",
    "            if self.max_size is not None and self.size >= self.max_size:\n",
    "                raise ValueError(\"Linked list is full\")\n",
    "            new_node = Node(data)\n",
    "            if self.head is None:\n",
    "                self.head = new_node\n",
    "            else:\n",
    "                last = self.head\n",
    "                while last.next:\n",
    "                    last = last.next\n",
    "                last.next = new_node\n",
    "            self.size += 1\n",
    "\n",
    "    def print_list(self):\n",
    "        with self.lock:\n",
    "            current = self.head\n",
    "            while current:\n",
    "                print(current.data, end=\" \")\n",
    "                current = current.next\n",
    "            print()  # For newline\n",
    "\n",
    "    def print_list_reverse(self):\n",
    "        with self.lock:\n",
    "            def _print_reverse(node):\n",
    "                if node is not None:\n",
    "                    _print_reverse(node.next)\n",
    "                    print(node.data, end=\" \")\n",
    "\n",
    "            _print_reverse(self.head)\n",
    "            print()  # For newline\n",
    "\n",
    "# Example usage:\n",
    "if __name__ == \"__main__\":\n",
    "    ll = LinkedList(max_size=5)\n",
    "    ll.append(1)\n",
    "    ll.append(2.0)\n",
    "    ll.append(\"three\")\n",
    "    ll.print_list()\n",
    "    ll.print_list_reverse()"
   ]
  },
  {
   "cell_type": "markdown",
   "metadata": {},
   "source": [
    "<a name=\"3\"></a>\n",
    "## 3 - Test Your Classes\n",
    "Below are three tests that should help you validate that your updated class is working as intended."
   ]
  },
  {
   "cell_type": "code",
   "execution_count": 8,
   "metadata": {},
   "outputs": [
    {
     "name": "stdout",
     "output_type": "stream",
     "text": [
      "A 1 0.1 \n"
     ]
    }
   ],
   "source": [
    "# Test 1 - Append Multiple Data Types\n",
    "# As initially designed not all data types can be added to the linked list.\n",
    "# Update the code to allow for additional data types.\n",
    "\n",
    "linked_list = LinkedList()\n",
    "linked_list.append(\"A\")\n",
    "linked_list.append(1)\n",
    "linked_list.append(0.1)\n",
    "linked_list.print_list()\n",
    "\n",
    "# Expected Output:\n",
    "# A 1 0.1"
   ]
  },
  {
   "cell_type": "code",
   "execution_count": 9,
   "metadata": {},
   "outputs": [
    {
     "name": "stdout",
     "output_type": "stream",
     "text": [
      "20 10 B A \n"
     ]
    }
   ],
   "source": [
    "# Test 2 - Print the Linked List in Reverse\n",
    "# Write the print_list_reverse method. Once your list is doubly linked\n",
    "# this should be a much easier method to write\n",
    "\n",
    "linked_list = LinkedList()\n",
    "linked_list.append(\"A\")\n",
    "linked_list.append(\"B\")\n",
    "linked_list.append(10)\n",
    "linked_list.append(20)\n",
    "linked_list.print_list_reverse()\n",
    "\n",
    "# Expected Output:\n",
    "# 20 10 B A"
   ]
  },
  {
   "cell_type": "code",
   "execution_count": 10,
   "metadata": {},
   "outputs": [
    {
     "name": "stdout",
     "output_type": "stream",
     "text": [
      "1.01 s ± 9.78 ms per loop (mean ± std. dev. of 7 runs, 1 loop each)\n"
     ]
    }
   ],
   "source": [
    "%%timeit\n",
    "# Test 3 - Append 10,000 items rapidly\n",
    "# As initially written this is a very slow process. Your updated class\n",
    "# should be able to find the tail of your linked list (the last node)\n",
    "# very quickly, significantly speeding up this process.\n",
    "# Runtimes will vary substantially but as initially written the append method\n",
    "# will take well more than a second. A refactored doubly linked list class\n",
    "# should take significantly less than a second.\n",
    "\n",
    "linked_list = LinkedList()\n",
    "for i in range(10000):\n",
    "    linked_list.append(\"A\")"
   ]
  },
  {
   "cell_type": "markdown",
   "metadata": {},
   "source": [
    "## Doubly Linked List"
   ]
  },
  {
   "cell_type": "markdown",
   "metadata": {},
   "source": [
    "# First attempt"
   ]
  },
  {
   "cell_type": "code",
   "execution_count": 11,
   "metadata": {},
   "outputs": [
    {
     "name": "stdout",
     "output_type": "stream",
     "text": [
      "1 2.0 three \n",
      "three 2.0 1 \n"
     ]
    }
   ],
   "source": [
    "import threading\n",
    "\n",
    "class Node:\n",
    "    def __init__(self, data):\n",
    "        self.data = data\n",
    "        self.next = None\n",
    "        self.prev = None\n",
    "\n",
    "class DoublyLinkedList:\n",
    "    def __init__(self, max_size: int = None):\n",
    "        self.head = None\n",
    "        self.tail = None\n",
    "        self.size = 0\n",
    "        self.max_size = max_size\n",
    "        self.lock = threading.Lock()\n",
    "\n",
    "    def append(self, data):\n",
    "        # Validate input data\n",
    "        if isinstance(data, (str, list, tuple, dict)) and len(data) > 1000:\n",
    "            raise ValueError(\"Data size exceeds maximum limit\")\n",
    "        with self.lock:\n",
    "            if self.max_size is not None and self.size >= self.max_size:\n",
    "                raise ValueError(\"Linked list is full\")\n",
    "            new_node = Node(data)\n",
    "            if self.head is None:\n",
    "                self.head = new_node\n",
    "                self.tail = new_node\n",
    "            else:\n",
    "                self.tail.next = new_node\n",
    "                new_node.prev = self.tail\n",
    "                self.tail = new_node\n",
    "            self.size += 1\n",
    "\n",
    "    def print_list(self):\n",
    "        with self.lock:\n",
    "            current = self.head\n",
    "            while current:\n",
    "                print(current.data, end=\" \")\n",
    "                current = current.next\n",
    "            print()  # For newline\n",
    "\n",
    "    def print_list_reverse(self):\n",
    "        with self.lock:\n",
    "            current = self.tail\n",
    "            while current:\n",
    "                print(current.data, end=\" \")\n",
    "                current = current.prev\n",
    "            print()  # For newline\n",
    "\n",
    "# Example usage:\n",
    "if __name__ == \"__main__\":\n",
    "    dll = DoublyLinkedList(max_size=5)\n",
    "    dll.append(1)\n",
    "    dll.append(2.0)\n",
    "    dll.append(\"three\")\n",
    "    dll.print_list()         # Output: 1 2.0 three \n",
    "    dll.print_list_reverse() # Output: three 2.0 1"
   ]
  },
  {
   "cell_type": "code",
   "execution_count": 15,
   "metadata": {},
   "outputs": [
    {
     "name": "stdout",
     "output_type": "stream",
     "text": [
      "A 1 0.1 \n"
     ]
    }
   ],
   "source": [
    "# Test 1 - Append Multiple Data Types\n",
    "# As initially designed not all data types can be added to the linked list.\n",
    "# Update the code to allow for additional data types.\n",
    "\n",
    "linked_list = DoublyLinkedList()\n",
    "linked_list.append(\"A\")\n",
    "linked_list.append(1)\n",
    "linked_list.append(0.1)\n",
    "linked_list.print_list()\n",
    "\n",
    "# Expected Output:\n",
    "# A 1 0.1"
   ]
  },
  {
   "cell_type": "code",
   "execution_count": 16,
   "metadata": {},
   "outputs": [
    {
     "name": "stdout",
     "output_type": "stream",
     "text": [
      "20 10 B A \n"
     ]
    }
   ],
   "source": [
    "# Test 2 - Print the Linked List in Reverse\n",
    "# Write the print_list_reverse method. Once your list is doubly linked\n",
    "# this should be a much easier method to write\n",
    "\n",
    "linked_list = DoublyLinkedList()\n",
    "linked_list.append(\"A\")\n",
    "linked_list.append(\"B\")\n",
    "linked_list.append(10)\n",
    "linked_list.append(20)\n",
    "linked_list.print_list_reverse()\n",
    "\n",
    "# Expected Output:\n",
    "# 20 10 B A"
   ]
  },
  {
   "cell_type": "code",
   "execution_count": 17,
   "metadata": {},
   "outputs": [
    {
     "name": "stdout",
     "output_type": "stream",
     "text": [
      "6.46 ms ± 181 µs per loop (mean ± std. dev. of 7 runs, 100 loops each)\n"
     ]
    }
   ],
   "source": [
    "%%timeit\n",
    "# Test 3 - Append 10,000 items rapidly\n",
    "# As initially written this is a very slow process. Your updated class\n",
    "# should be able to find the tail of your linked list (the last node)\n",
    "# very quickly, significantly speeding up this process.\n",
    "# Runtimes will vary substantially but as initially written the append method\n",
    "# will take well more than a second. A refactored doubly linked list class\n",
    "# should take significantly less than a second.\n",
    "\n",
    "linked_list = DoublyLinkedList()\n",
    "for i in range(10000):\n",
    "    linked_list.append(\"A\")"
   ]
  },
  {
   "cell_type": "markdown",
   "metadata": {},
   "source": [
    "<a name=\"4\"></a>\n",
    "## 4 - Go Further with Your LLM Prompting Skills\n",
    "\n",
    "The three tests above are simple checks that your class is doubly linked, but it's by no means comprehensive of every concern you'd have about the design of this class. Take some time to experiment with either additional functionality you'd want to add, or prompt the LLM to suggest additions based on new roles, like one of a security or scalability expert. Remember, the most important part of this activity is building your skills working with an LLM, so come up with interesting ways to test what these tools are able to help you accomplish."
   ]
  },
  {
   "cell_type": "markdown",
   "metadata": {},
   "source": [
    "## Scalability"
   ]
  },
  {
   "cell_type": "markdown",
   "metadata": {},
   "source": [
    "Certainly! When considering scalability for a doubly linked list implementation, there are several aspects to consider, including performance, memory usage, and concurrency. Here are some improvements and considerations to help scale the implementation:\n",
    "\n",
    "### 1. **Concurrency Enhancements**:\n",
    "- **Fine-Grained Locking**: Instead of using a single lock for the entire list, you could use fine-grained locking, such as locking individual nodes or sections of the list. This would allow multiple threads to operate on different parts of the list concurrently.\n",
    "\n",
    "### 2. **Memory Management**:\n",
    "- **Node Pooling**: Implement a pool of pre-allocated nodes to reduce the overhead of frequent memory allocation and deallocation, which can be particularly useful in high-throughput scenarios.\n",
    "- **Garbage Collection**: Ensure that unused nodes are properly garbage collected to avoid memory leaks.\n",
    "\n",
    "### 3. **Batch Operations**:\n",
    "- **Bulk Insertions/Deletions**: Implement methods for bulk insertions and deletions to minimize locking overhead and improve throughput.\n",
    "\n",
    "### 4. **Optimized Traversal**:\n",
    "- **Caching**: If certain nodes are frequently accessed, consider implementing a caching mechanism to speed up access.\n",
    "\n",
    "### 5. **Load Balancing**:\n",
    "- **Distributed Linked List**: For extremely large data sets, consider partitioning the list across multiple nodes in a distributed system. This would involve more complex coordination but can significantly improve scalability.\n",
    "\n",
    "### 6. **Data Structure Alternatives**:\n",
    "- **Hybrid Data Structures**: Depending on the use case, consider hybrid data structures that combine the benefits of linked lists with other structures like arrays or hash tables for faster access and modification times.\n",
    "\n",
    "Here's an example incorporating fine-grained locking and bulk operations:\n",
    "\n",
    "```python\n",
    "import threading\n",
    "\n",
    "class Node:\n",
    "    def __init__(self, data):\n",
    "        self.data = data\n",
    "        self.next = None\n",
    "        self.prev = None\n",
    "        self.lock = threading.Lock()\n",
    "\n",
    "class DoublyLinkedList:\n",
    "    def __init__(self, max_size: int = None):\n",
    "        self.head = None\n",
    "        self.tail = None\n",
    "        self.size = 0\n",
    "        self.max_size = max_size\n",
    "        self.list_lock = threading.Lock()\n",
    "\n",
    "    def append(self, data):\n",
    "        # Validate input data\n",
    "        if isinstance(data, (str, list, tuple, dict)) and len(data) > 1000:\n",
    "            raise ValueError(\"Data size exceeds maximum limit\")\n",
    "        \n",
    "        new_node = Node(data)\n",
    "        with self.list_lock:\n",
    "            if self.max_size is not None and self.size >= self.max_size:\n",
    "                raise ValueError(\"Linked list is full\")\n",
    "            \n",
    "            if self.head is None:\n",
    "                self.head = new_node\n",
    "                self.tail = new_node\n",
    "            else:\n",
    "                with self.tail.lock:\n",
    "                    self.tail.next = new_node\n",
    "                    new_node.prev = self.tail\n",
    "                    self.tail = new_node\n",
    "            self.size += 1\n",
    "\n",
    "    def append_bulk(self, data_list):\n",
    "        new_nodes = [Node(data) for data in data_list]\n",
    "        \n",
    "        with self.list_lock:\n",
    "            if self.max_size is not None and self.size + len(new_nodes) > self.max_size:\n",
    "                raise ValueError(\"Linked list is full\")\n",
    "\n",
    "            if self.head is None:\n",
    "                self.head = new_nodes[0]\n",
    "                self.tail = new_nodes[-1]\n",
    "                for i in range(len(new_nodes) - 1):\n",
    "                    new_nodes[i].next = new_nodes[i + 1]\n",
    "                    new_nodes[i + 1].prev = new_nodes[i]\n",
    "            else:\n",
    "                with self.tail.lock:\n",
    "                    self.tail.next = new_nodes[0]\n",
    "                    new_nodes[0].prev = self.tail\n",
    "                    for i in range(len(new_nodes) - 1):\n",
    "                        new_nodes[i].next = new_nodes[i + 1]\n",
    "                        new_nodes[i + 1].prev = new_nodes[i]\n",
    "                    self.tail = new_nodes[-1]\n",
    "            self.size += len(new_nodes)\n",
    "\n",
    "    def print_list(self):\n",
    "        current = self.head\n",
    "        while current:\n",
    "            with current.lock:\n",
    "                print(current.data, end=\" \")\n",
    "                current = current.next\n",
    "        print()  # For newline\n",
    "\n",
    "    def print_list_reverse(self):\n",
    "        current = self.tail\n",
    "        while current:\n",
    "            with current.lock:\n",
    "                print(current.data, end=\" \")\n",
    "                current = current.prev\n",
    "        print()  # For newline\n",
    "\n",
    "# Example usage:\n",
    "if __name__ == \"__main__\":\n",
    "    dll = DoublyLinkedList(max_size=10)\n",
    "    dll.append(1)\n",
    "    dll.append(2.0)\n",
    "    dll.append(\"three\")\n",
    "    dll.print_list()         # Output: 1 2.0 three \n",
    "    dll.print_list_reverse() # Output: three 2.0 1\n",
    "\n",
    "    # Bulk append\n",
    "    dll.append_bulk([4, 5.0, \"six\"])\n",
    "    dll.print_list()         # Output: 1 2.0 three 4 5.0 six\n",
    "    dll.print_list_reverse() # Output: six 5.0 4 three 2.0 1\n",
    "```\n",
    "\n",
    "### Key Changes:\n",
    "1. **Fine-Grained Locking**: Each node has its own lock, and the list has a lock for structural changes.\n",
    "2. **Bulk Operations**: Added `append_bulk` method for bulk insertions.\n",
    "3. **Optimized Traversal**: Locks are used during traversal to ensure thread safety.\n",
    "\n",
    "These changes can help improve the scalability and performance of your doubly linked list implementation, especially in multi-threaded environments."
   ]
  },
  {
   "cell_type": "code",
   "execution_count": 20,
   "metadata": {},
   "outputs": [
    {
     "name": "stdout",
     "output_type": "stream",
     "text": [
      "1 2.0 three \n",
      "three 2.0 1 \n",
      "1 2.0 three 4 5.0 six \n",
      "six 5.0 4 three 2.0 1 \n"
     ]
    }
   ],
   "source": [
    "import threading\r\n",
    "\r\n",
    "class Node:\r\n",
    "    def __init__(self, data):\r\n",
    "        self.data = data\r\n",
    "        self.next = None\r\n",
    "        self.prev = None\r\n",
    "        self.lock = threading.Lock()\r\n",
    "\r\n",
    "class DoublyLinkedList:\r\n",
    "    def __init__(self, max_size: int = None):\r\n",
    "        self.head = None\r\n",
    "        self.tail = None\r\n",
    "        self.size = 0\r\n",
    "        self.max_size = max_size\r\n",
    "        self.list_lock = threading.Lock()\r\n",
    "\r\n",
    "    def append(self, data):\r\n",
    "        # Validate input data\r\n",
    "        if isinstance(data, (str, list, tuple, dict)) and len(data) > 1000:\r\n",
    "            raise ValueError(\"Data size exceeds maximum limit\")\r\n",
    "        \r\n",
    "        new_node = Node(data)\r\n",
    "        with self.list_lock:\r\n",
    "            if self.max_size is not None and self.size >= self.max_size:\r\n",
    "                raise ValueError(\"Linked list is full\")\r\n",
    "            \r\n",
    "            if self.head is None:\r\n",
    "                self.head = new_node\r\n",
    "                self.tail = new_node\r\n",
    "            else:\r\n",
    "                with self.tail.lock:\r\n",
    "                    self.tail.next = new_node\r\n",
    "                    new_node.prev = self.tail\r\n",
    "                    self.tail = new_node\r\n",
    "            self.size += 1\r\n",
    "\r\n",
    "    def append_bulk(self, data_list):\r\n",
    "        new_nodes = [Node(data) for data in data_list]\r\n",
    "        \r\n",
    "        with self.list_lock:\r\n",
    "            if self.max_size is not None and self.size + len(new_nodes) > self.max_size:\r\n",
    "                raise ValueError(\"Linked list is full\")\r\n",
    "\r\n",
    "            if self.head is None:\r\n",
    "                self.head = new_nodes[0]\r\n",
    "                self.tail = new_nodes[-1]\r\n",
    "                for i in range(len(new_nodes) - 1):\r\n",
    "                    new_nodes[i].next = new_nodes[i + 1]\r\n",
    "                    new_nodes[i + 1].prev = new_nodes[i]\r\n",
    "            else:\r\n",
    "                with self.tail.lock:\r\n",
    "                    self.tail.next = new_nodes[0]\r\n",
    "                    new_nodes[0].prev = self.tail\r\n",
    "                    for i in range(len(new_nodes) - 1):\r\n",
    "                        new_nodes[i].next = new_nodes[i + 1]\r\n",
    "                        new_nodes[i + 1].prev = new_nodes[i]\r\n",
    "                    self.tail = new_nodes[-1]\r\n",
    "            self.size += len(new_nodes)\r\n",
    "\r\n",
    "    def print_list(self):\r\n",
    "        current = self.head\r\n",
    "        while current:\r\n",
    "            with current.lock:\r\n",
    "                print(current.data, end=\" \")\r\n",
    "                current = current.next\r\n",
    "        print()  # For newline\r\n",
    "\r\n",
    "    def print_list_reverse(self):\r\n",
    "        current = self.tail\r\n",
    "        while current:\r\n",
    "            with current.lock:\r\n",
    "                print(current.data, end=\" \")\r\n",
    "                current = current.prev\r\n",
    "        print()  # For newline\r\n",
    "\r\n",
    "# Example usage:\r\n",
    "if __name__ == \"__main__\":\r\n",
    "    dll = DoublyLinkedList(max_size=10)\r\n",
    "    dll.append(1)\r\n",
    "    dll.append(2.0)\r\n",
    "    dll.append(\"three\")\r\n",
    "    dll.print_list()         # Output: 1 2.0 three \r\n",
    "    dll.print_list_reverse() # Output: three 2.0 1\r\n",
    "\r\n",
    "    # Bulk append\r\n",
    "    dll.append_bulk([4, 5.0, \"six\"])\r\n",
    "    dll.print_list()         # Output: 1 2.0 three 4 5.0 six\r\n",
    "    dll.print_list_reverse() # Output: six 5.0 4 three 2.0 1"
   ]
  },
  {
   "cell_type": "code",
   "execution_count": 21,
   "metadata": {},
   "outputs": [
    {
     "name": "stdout",
     "output_type": "stream",
     "text": [
      "20 10 B A \n"
     ]
    }
   ],
   "source": [
    "# Test 2 - Print the Linked List in Reverse\n",
    "# Write the print_list_reverse method. Once your list is doubly linked\n",
    "# this should be a much easier method to write\n",
    "\n",
    "linked_list = DoublyLinkedList()\n",
    "linked_list.append(\"A\")\n",
    "linked_list.append(\"B\")\n",
    "linked_list.append(10)\n",
    "linked_list.append(20)\n",
    "linked_list.print_list_reverse()\n",
    "\n",
    "# Expected Output:\n",
    "# 20 10 B A"
   ]
  },
  {
   "cell_type": "code",
   "execution_count": 22,
   "metadata": {},
   "outputs": [
    {
     "name": "stdout",
     "output_type": "stream",
     "text": [
      "9.94 ms ± 42.2 µs per loop (mean ± std. dev. of 7 runs, 100 loops each)\n"
     ]
    }
   ],
   "source": [
    "%%timeit\n",
    "# Test 3 - Append 10,000 items rapidly\n",
    "# As initially written this is a very slow process. Your updated class\n",
    "# should be able to find the tail of your linked list (the last node)\n",
    "# very quickly, significantly speeding up this process.\n",
    "# Runtimes will vary substantially but as initially written the append method\n",
    "# will take well more than a second. A refactored doubly linked list class\n",
    "# should take significantly less than a second.\n",
    "\n",
    "linked_list = DoublyLinkedList()\n",
    "for i in range(10000):\n",
    "    linked_list.append(\"A\")"
   ]
  },
  {
   "cell_type": "code",
   "execution_count": null,
   "metadata": {},
   "outputs": [],
   "source": []
  }
 ],
 "metadata": {
  "kernelspec": {
   "display_name": "Python 3 (ipykernel)",
   "language": "python",
   "name": "python3"
  },
  "language_info": {
   "codemirror_mode": {
    "name": "ipython",
    "version": 3
   },
   "file_extension": ".py",
   "mimetype": "text/x-python",
   "name": "python",
   "nbconvert_exporter": "python",
   "pygments_lexer": "ipython3",
   "version": "3.11.6"
  }
 },
 "nbformat": 4,
 "nbformat_minor": 4
}

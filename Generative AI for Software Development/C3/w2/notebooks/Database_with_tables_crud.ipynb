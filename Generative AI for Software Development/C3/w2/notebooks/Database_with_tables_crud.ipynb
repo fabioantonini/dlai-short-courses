{
 "cells": [
  {
   "cell_type": "code",
   "execution_count": 9,
   "metadata": {},
   "outputs": [],
   "source": [
    "from sqlalchemy import create_engine, text\n",
    "from sqlalchemy import Table, Column, Integer, String, MetaData, ForeignKey"
   ]
  },
  {
   "cell_type": "code",
   "execution_count": 10,
   "metadata": {},
   "outputs": [],
   "source": [
    "engine = create_engine('sqlite:///ecommerce.db', echo=True)\n",
    "metadata = MetaData()"
   ]
  },
  {
   "cell_type": "code",
   "execution_count": 11,
   "metadata": {},
   "outputs": [
    {
     "name": "stdout",
     "output_type": "stream",
     "text": [
      "2024-12-22 11:28:18,525 INFO sqlalchemy.engine.Engine BEGIN (implicit)\n",
      "2024-12-22 11:28:18,525 INFO sqlalchemy.engine.Engine PRAGMA main.table_info(\"users\")\n",
      "2024-12-22 11:28:18,526 INFO sqlalchemy.engine.Engine [raw sql] ()\n",
      "2024-12-22 11:28:18,528 INFO sqlalchemy.engine.Engine PRAGMA main.table_info(\"products\")\n",
      "2024-12-22 11:28:18,528 INFO sqlalchemy.engine.Engine [raw sql] ()\n",
      "2024-12-22 11:28:18,529 INFO sqlalchemy.engine.Engine PRAGMA main.table_info(\"orders\")\n",
      "2024-12-22 11:28:18,529 INFO sqlalchemy.engine.Engine [raw sql] ()\n",
      "2024-12-22 11:28:18,530 INFO sqlalchemy.engine.Engine PRAGMA main.table_info(\"order_items\")\n",
      "2024-12-22 11:28:18,530 INFO sqlalchemy.engine.Engine [raw sql] ()\n",
      "2024-12-22 11:28:18,531 INFO sqlalchemy.engine.Engine COMMIT\n"
     ]
    }
   ],
   "source": [
    "users = Table('users', metadata,\n",
    "              Column('id', Integer, primary_key=True),\n",
    "              Column('name', String),\n",
    "              Column('email', String, unique=True))\n",
    "\n",
    "products = Table('products', metadata,\n",
    "                 Column('id', Integer, primary_key=True),\n",
    "                 Column('name', String),\n",
    "                 Column('price', Integer))\n",
    "\n",
    "orders = Table('orders', metadata,\n",
    "               Column('id', Integer, primary_key=True),\n",
    "               Column('user_id', Integer, ForeignKey('users.id')))\n",
    "\n",
    "order_items = Table('order_items', metadata,\n",
    "                    Column('id', Integer, primary_key=True),\n",
    "                    Column('order_id', Integer, ForeignKey('orders.id')),\n",
    "                    Column('product_id', Integer, ForeignKey('products.id')),\n",
    "                    Column('quantity', Integer))\n",
    "\n",
    "# Create all tables\n",
    "metadata.create_all(engine)"
   ]
  },
  {
   "cell_type": "code",
   "execution_count": 12,
   "metadata": {},
   "outputs": [
    {
     "name": "stdout",
     "output_type": "stream",
     "text": [
      "2024-12-22 11:28:22,774 INFO sqlalchemy.engine.Engine BEGIN (implicit)\n",
      "2024-12-22 11:28:22,775 INFO sqlalchemy.engine.Engine SELECT 1\n",
      "2024-12-22 11:28:22,775 INFO sqlalchemy.engine.Engine [generated in 0.00094s] ()\n",
      "1\n",
      "2024-12-22 11:28:22,776 INFO sqlalchemy.engine.Engine ROLLBACK\n"
     ]
    }
   ],
   "source": [
    "with engine.connect() as connection:\n",
    "    result = connection.execute(text(\"SELECT 1\"))\n",
    "    # Fetch and print the result\n",
    "    print(result.scalar()) # This should print 1 if the connection is successful"
   ]
  },
  {
   "cell_type": "code",
   "execution_count": null,
   "metadata": {},
   "outputs": [],
   "source": []
  }
 ],
 "metadata": {
  "kernelspec": {
   "display_name": "experiments",
   "language": "python",
   "name": "python3"
  },
  "language_info": {
   "codemirror_mode": {
    "name": "ipython",
    "version": 3
   },
   "file_extension": ".py",
   "mimetype": "text/x-python",
   "name": "python",
   "nbconvert_exporter": "python",
   "pygments_lexer": "ipython3",
   "version": "3.12.8"
  }
 },
 "nbformat": 4,
 "nbformat_minor": 2
}
